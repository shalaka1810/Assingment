{
 "cells": [
  {
   "cell_type": "markdown",
   "id": "457bfd14",
   "metadata": {},
   "source": [
    "Q1) Create a function in python to read the text file and replace specific content\n",
    "of the file."
   ]
  },
  {
   "cell_type": "code",
   "execution_count": 4,
   "id": "ab3f42d3",
   "metadata": {},
   "outputs": [],
   "source": [
    "import logging\n",
    "logger = logging.getLogger(__name__)\n",
    "logger.setLevel(logging.DEBUG)\n",
    "file_handler = logging.FileHandler(\"Exceptions.log\")\n",
    "formatter = logging.Formatter(\"%(asctime)s - %(name)s - %(message)s\",datefmt=\"%d-%m-%y %I:%M:%S %p\")\n",
    "file_handler.setFormatter(formatter)\n",
    "logger.addHandler(file_handler)\n",
    "\n",
    "def replace_content(file_path,replace=\"placement\",replace_with=\"screening\"):\n",
    "    \n",
    "    \"\"\"This function will replace a single given word with the any other given work\"\"\"\n",
    "    file = open(file_path, \"r\")\n",
    "    replace_str = \"\"\n",
    "    for line in file:\n",
    "        new_line = line.replace(replace, replace_with)\n",
    "        replace_str += new_line\n",
    "    file.close()\n",
    "    writing_file = open(file_path, \"w\")\n",
    "    writing_file.write(replace_str)\n",
    "    writing_file.close()\n",
    "        \n",
    "if __name__ ==\"__main__\":\n",
    "    try:\n",
    "        replace_content(\"example.txt\")\n",
    "    except Exception as e:\n",
    "        logger.exception(e)\n",
    "        "
   ]
  },
  {
   "cell_type": "markdown",
   "id": "7bcff2fa",
   "metadata": {},
   "source": [
    "Q2) Abstract Class\n",
    "\n",
    "In python, the abstract class is used for providing a blueprint for implementation of cretain mentods/properties for all of its child classes. Please refer the example below. \n",
    "\n",
    "Requirement- I have a class called \"Doberman\". Now in this class, I want the certain methods/properties to be compulsorily implemented. For this requirement I can create an abstract class called \"Dog\" which will contain the implemetation of those methods/properties."
   ]
  },
  {
   "cell_type": "code",
   "execution_count": 10,
   "id": "b3e96c53",
   "metadata": {},
   "outputs": [],
   "source": [
    "from abc import ABC,abstractmethod\n",
    "\n",
    "class Dog(ABC):\n",
    "    #defining a abstract method that will have to be implemented in the child classes\n",
    "    @abstractmethod\n",
    "    def bark(self):\n",
    "        return \"Woof Woof\"\n",
    "    \n",
    "class Dobberman(Dog):\n",
    "    def __init__(self,country,nickname):\n",
    "        self.country_of_origin = country\n",
    "        self.color = \"Black\"\n",
    "        self.nickname = nickname\n",
    "    #If I do not define this method then at the time of object creation of this class, the compliler will throw an error    \n",
    "    def bark(self):\n",
    "        return \"woof-woo\"\n",
    "\n",
    "d = Dobberman(\"Germany\",\"Dobbie\")"
   ]
  },
  {
   "cell_type": "markdown",
   "id": "3f1f8043",
   "metadata": {},
   "source": [
    "Q3) Multiple Inheritance\n",
    "\n",
    "Whenever a child class inherits from more than two parent classes, it is referred to as multiple inheritance. In this type of inheritacnce the child inherits all the methods from both its parent class"
   ]
  },
  {
   "cell_type": "code",
   "execution_count": 19,
   "id": "c45863cf",
   "metadata": {},
   "outputs": [
    {
     "name": "stdout",
     "output_type": "stream",
     "text": [
      "Playfull,notorious\n",
      "woof-woof\n",
      "Animals eat\n"
     ]
    }
   ],
   "source": [
    "class Animal:\n",
    "    def __init__(self,kind):\n",
    "        self.kind = kind\n",
    "        \n",
    "    def eat(self):\n",
    "        return \"Animals eat\"\n",
    "\n",
    "\n",
    "class Dog:\n",
    "    def __init__(self,species):\n",
    "        self.species = species\n",
    "    def bark(self):\n",
    "        return \"woof-woof\"\n",
    "\n",
    "class Siberian_husky(Animal,Dog):\n",
    "    def __init__(self,country,color,nickname):\n",
    "        self.country_of_origin = country\n",
    "        self.color = color\n",
    "        self.nickname = nickname\n",
    "    \n",
    "    def traits(self):\n",
    "        return \"Playfull,notorious\"\n",
    "\n",
    "f = Siberian_husky(\"Siberia\",\"grey\",\"husky\")    \n",
    "print(f.traits())\n",
    "print(f.bark())\n",
    "print(f.eat())"
   ]
  },
  {
   "cell_type": "markdown",
   "id": "c2123078",
   "metadata": {},
   "source": [
    "Q4) Decorator\n",
    "\n",
    "A decorator(\"@\") takes a function and adds additional fuctionality to it without completely modifying the later.\n",
    "In the below example, we added the functionality of decorator_function to the function1"
   ]
  },
  {
   "cell_type": "code",
   "execution_count": 49,
   "id": "f35e2ea4",
   "metadata": {},
   "outputs": [
    {
     "name": "stdout",
     "output_type": "stream",
     "text": [
      "Hey There from the decorator function!\n",
      "Hi There from function1!\n"
     ]
    }
   ],
   "source": [
    "def decorator_function(anyfunction):\n",
    "    def outer_function():\n",
    "        print(\"Hey There from the decorator function!\")\n",
    "        anyfunction()\n",
    "    return outer_function\n",
    "@decorator_function\n",
    "def function1():\n",
    "    print(\"Hi There from function1!\")    \n",
    "\n",
    "function1()"
   ]
  }
 ],
 "metadata": {
  "kernelspec": {
   "display_name": "Python 3 (ipykernel)",
   "language": "python",
   "name": "python3"
  },
  "language_info": {
   "codemirror_mode": {
    "name": "ipython",
    "version": 3
   },
   "file_extension": ".py",
   "mimetype": "text/x-python",
   "name": "python",
   "nbconvert_exporter": "python",
   "pygments_lexer": "ipython3",
   "version": "3.8.12"
  }
 },
 "nbformat": 4,
 "nbformat_minor": 5
}
